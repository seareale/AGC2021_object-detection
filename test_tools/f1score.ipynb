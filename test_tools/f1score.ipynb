{
 "cells": [
  {
   "cell_type": "code",
   "execution_count": 6,
   "metadata": {},
   "outputs": [],
   "source": [
    "from f1score import *"
   ]
  },
  {
   "cell_type": "code",
   "execution_count": 34,
   "metadata": {},
   "outputs": [
    {
     "name": "stdout",
     "output_type": "stream",
     "text": [
      "\n",
      ">> Macro F1 score \n",
      "------------------------\n",
      "paper     : 0.6806\n",
      "paperpack : 0.9645\n",
      "can       : 1.0000\n",
      "glass     : 1.0000\n",
      "pet       : 1.0000\n",
      "plastic   : 0.8158\n",
      "vinyl     : 0.9180\n",
      "------------------------\n",
      "TOTAL     : 0.9113\n",
      "\n",
      ">> Macro F1 score - include zero\n",
      "------------------------\n",
      "paper     : 0.6786\n",
      "paperpack : 0.9610\n",
      "can       : 1.0000\n",
      "glass     : 0.9980\n",
      "pet       : 0.9394\n",
      "plastic   : 0.7794\n",
      "vinyl     : 0.9058\n",
      "------------------------\n",
      "TOTAL     : 0.8946\n"
     ]
    }
   ],
   "source": [
    "# DIR_PATH = '/ssd_2/RecycleTrash/yolo/images/test_2020AGC_452'\n",
    "# DIR_PATH = '/ssd_2/RecycleTrash/yolo/images/test_2021AGC_30'\n",
    "# DIR_PATH = '/ssd_2/RecycleTrash/yolo/images/test_211026_405'\n",
    "# DIR_PATH = '/ssd_2/RecycleTrash/yolo/images/test_211103_400'\n",
    "DIR_PATH = '/home/agc2021/dataset/'\n",
    "\n",
    "true_dict = get_true_annotation('../seareale/config/config.yaml', one_path=DIR_PATH)\n",
    "pred_dict = get_pred_annotation(f'../seareale/answersheet_4_03_seareale.json')\n",
    "\n",
    "_, f1, con_mat, tn = AGC2021_f1score(true_dict, pred_dict)\n",
    "_, f1_zero, con_mat_zero, tn_zero  = AGC2021_f1score(true_dict, pred_dict, include_zero=True)\n",
    "\n",
    "# PREFIX = 'x6_test_800_s-1'\n",
    "# _, _ = show_confMat(con_mat, PREFIX)\n",
    "# _ = plot_f1score(f1, PREFIX, tn)\n",
    "# _, _ = show_confMat(con_mat_zero, PREFIX+'_zero')\n",
    "# _ = plot_f1score(f1_zero, PREFIX+'_zero', tn_zero)"
   ]
  },
  {
   "cell_type": "markdown",
   "metadata": {},
   "source": []
  },
  {
   "cell_type": "code",
   "execution_count": null,
   "metadata": {},
   "outputs": [],
   "source": []
  }
 ],
 "metadata": {
  "interpreter": {
   "hash": "6f81b7c444f640bcd28e7b46d1066f4663d856bc8436cdde2a500bc0abc8ca73"
  },
  "kernelspec": {
   "display_name": "Python 3.8.8 64-bit ('recycle': conda)",
   "name": "python3"
  },
  "language_info": {
   "codemirror_mode": {
    "name": "ipython",
    "version": 3
   },
   "file_extension": ".py",
   "mimetype": "text/x-python",
   "name": "python",
   "nbconvert_exporter": "python",
   "pygments_lexer": "ipython3",
   "version": "3.8.8"
  },
  "orig_nbformat": 4
 },
 "nbformat": 4,
 "nbformat_minor": 2
}

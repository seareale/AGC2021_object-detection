{
 "cells": [
  {
   "cell_type": "code",
   "execution_count": 1,
   "metadata": {},
   "outputs": [],
   "source": [
    "from f1score import *"
   ]
  },
  {
   "cell_type": "code",
   "execution_count": 2,
   "metadata": {},
   "outputs": [
    {
     "name": "stdout",
     "output_type": "stream",
     "text": [
      "\n",
      ">> Macro F1 score \n",
      "------------------------\n",
      "paper     : 0.6510\n",
      "paperpack : 0.8583\n",
      "can       : 1.0000\n",
      "pet       : 1.0000\n",
      "vinyl     : 0.8077\n",
      "------------------------\n",
      "TOTAL     : 0.8634\n",
      "\n",
      ">> Macro F1 score - include zero\n",
      "------------------------\n",
      "paper     : 0.6497\n",
      "paperpack : 0.8478\n",
      "can       : 1.0000\n",
      "pet       : 1.0000\n",
      "vinyl     : 0.7957\n",
      "------------------------\n",
      "TOTAL     : 0.8587\n"
     ]
    }
   ],
   "source": [
    "PREFIX = '400'\n",
    "\n",
    "true_dict = get_true_annotation('../seareale/config.yaml')\n",
    "pred_dict = get_pred_annotation(f'../seareale/answersheet_4_03_seareale_{PREFIX}.json')\n",
    "\n",
    "_, f1, con_mat = AGC2021_f1score(true_dict, pred_dict)\n",
    "_, f1_zero, con_mat_zero  = AGC2021_f1score(true_dict, pred_dict, include_zero=True)\n",
    "\n",
    "_, _ = show_confMat(con_mat, PREFIX)\n",
    "_ = plot_f1score(f1, PREFIX)\n",
    "_, _ = show_confMat(con_mat_zero, PREFIX+'_zero')\n",
    "_ = plot_f1score(f1_zero, PREFIX+'_zero')\n"
   ]
  },
  {
   "cell_type": "code",
   "execution_count": 3,
   "metadata": {},
   "outputs": [
    {
     "ename": "NameError",
     "evalue": "name 'con_mat' is not defined",
     "output_type": "error",
     "traceback": [
      "\u001b[0;31m---------------------------------------------------------------------------\u001b[0m",
      "\u001b[0;31mNameError\u001b[0m                                 Traceback (most recent call last)",
      "\u001b[0;32m<ipython-input-3-827739e7f2d3>\u001b[0m in \u001b[0;36m<module>\u001b[0;34m\u001b[0m\n\u001b[0;32m----> 1\u001b[0;31m \u001b[0mcon_mat\u001b[0m\u001b[0;34m\u001b[0m\u001b[0;34m\u001b[0m\u001b[0m\n\u001b[0m",
      "\u001b[0;31mNameError\u001b[0m: name 'con_mat' is not defined"
     ]
    }
   ],
   "source": [
    "con_mat"
   ]
  },
  {
   "cell_type": "code",
   "execution_count": 3,
   "metadata": {},
   "outputs": [
    {
     "data": {
      "text/plain": [
       "(array([[113.,   0.,   0.,   0.],\n",
       "        [  0.,   0.,   0.,   0.],\n",
       "        [  0.,   0.,   0.,   0.],\n",
       "        [  0.,   0.,   0.,   3.]]),\n",
       " (array([1, 2, 3, 4]), array([1, 2, 3, 4])))"
      ]
     },
     "execution_count": 3,
     "metadata": {},
     "output_type": "execute_result"
    }
   ],
   "source": [
    "con_mat[3]"
   ]
  },
  {
   "cell_type": "code",
   "execution_count": 4,
   "metadata": {},
   "outputs": [
    {
     "data": {
      "text/plain": [
       "(array([[195.,   1.,   0.],\n",
       "        [  0.,  12.,   1.],\n",
       "        [  0.,   1.,   1.]]),\n",
       " (array([1, 2, 3]), array([1, 2, 3])))"
      ]
     },
     "execution_count": 4,
     "metadata": {},
     "output_type": "execute_result"
    }
   ],
   "source": [
    "con_mat[2]"
   ]
  },
  {
   "cell_type": "code",
   "execution_count": 5,
   "metadata": {},
   "outputs": [
    {
     "data": {
      "text/plain": [
       "1.0"
      ]
     },
     "execution_count": 5,
     "metadata": {},
     "output_type": "execute_result"
    }
   ],
   "source": [
    "np.sum(con_mat[2][0][0,:]) - np.sum(con_mat[2][0][0,0])"
   ]
  },
  {
   "cell_type": "code",
   "execution_count": 6,
   "metadata": {},
   "outputs": [
    {
     "data": {
      "text/plain": [
       "0.0"
      ]
     },
     "execution_count": 6,
     "metadata": {},
     "output_type": "execute_result"
    }
   ],
   "source": [
    "np.sum(con_mat[2][0][:,0]) - np.sum(con_mat[2][0][0,0])"
   ]
  },
  {
   "cell_type": "code",
   "execution_count": null,
   "metadata": {},
   "outputs": [],
   "source": []
  }
 ],
 "metadata": {
  "interpreter": {
   "hash": "6f81b7c444f640bcd28e7b46d1066f4663d856bc8436cdde2a500bc0abc8ca73"
  },
  "kernelspec": {
   "display_name": "Python 3.8.8 64-bit ('recycle': conda)",
   "name": "python3"
  },
  "language_info": {
   "codemirror_mode": {
    "name": "ipython",
    "version": 3
   },
   "file_extension": ".py",
   "mimetype": "text/x-python",
   "name": "python",
   "nbconvert_exporter": "python",
   "pygments_lexer": "ipython3",
   "version": "3.8.8"
  },
  "orig_nbformat": 4
 },
 "nbformat": 4,
 "nbformat_minor": 2
}

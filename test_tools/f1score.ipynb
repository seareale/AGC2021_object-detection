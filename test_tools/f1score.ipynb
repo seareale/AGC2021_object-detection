{
 "cells": [
  {
   "cell_type": "code",
   "execution_count": 1,
   "metadata": {},
   "outputs": [],
   "source": [
    "from f1score import *"
   ]
  },
  {
   "cell_type": "code",
   "execution_count": null,
   "metadata": {},
   "outputs": [],
   "source": [
    "0.7748, 0.7490"
   ]
  },
  {
   "cell_type": "code",
   "execution_count": 5,
   "metadata": {},
   "outputs": [],
   "source": [
    "# 6,7 # 0.8586 0.8458\n",
    "# Base # 0.8937, 0.8841\n",
    "\n",
    "## 30장        Base         0,1 1,1.3,1.5\n",
    "# s6_all # 0.8468 0.8245    0.8793 0.8541\n",
    "# s6_det # 0.8590 0.8415    0.8793 0.8515\n",
    "# s6_nec # 0.8164 0.7770    0.8625 0.8282\n",
    "\n",
    "## 405장        Base         0,1 1,1.3,1.5\n",
    "# s6_all # \n",
    "# s6_det # \n",
    "# s6_nec # "
   ]
  },
  {
   "cell_type": "code",
   "execution_count": 14,
   "metadata": {},
   "outputs": [
    {
     "name": "stdout",
     "output_type": "stream",
     "text": [
      "\n",
      ">> Macro F1 score \n",
      "------------------------\n",
      "paper     : 0.8782\n",
      "paperpack : 0.6905\n",
      "can       : 1.0000\n",
      "glass     : 1.0000\n",
      "pet       : 1.0000\n",
      "plastic   : 0.8783\n",
      "vinyl     : 0.7083\n",
      "------------------------\n",
      "TOTAL     : 0.8793\n",
      "\n",
      ">> Macro F1 score - include zero\n",
      "------------------------\n",
      "paper     : 0.8611\n",
      "paperpack : 0.6691\n",
      "can       : 1.0000\n",
      "glass     : 1.0000\n",
      "pet       : 0.9000\n",
      "plastic   : 0.8583\n",
      "vinyl     : 0.6900\n",
      "------------------------\n",
      "TOTAL     : 0.8541\n"
     ]
    }
   ],
   "source": [
    "PREFIX = 'sb2'\n",
    "\n",
    "# DIR_PATH = '/ssd_2/RecycleTrash/yolo/images/test_2020AGC_452'\n",
    "DIR_PATH = '/ssd_2/RecycleTrash/yolo/images/test_2021AGC_30'\n",
    "# DIR_PATH = '/ssd_2/RecycleTrash/yolo/images/test_211026_405'\n",
    "# DIR_PATH = '/ssd_2/RecycleTrash/yolo/images/test_211103_400'\n",
    "\n",
    "true_dict = get_true_annotation('../seareale/config/config.yaml', one_path=None)\n",
    "pred_dict = get_pred_annotation(f'../seareale/answersheet_4_03_seareale.json')\n",
    "\n",
    "_, f1, con_mat, tn = AGC2021_f1score(true_dict, pred_dict)\n",
    "_, f1_zero, con_mat_zero, tn_zero  = AGC2021_f1score(true_dict, pred_dict, include_zero=True)\n",
    "\n",
    "# _, _ = show_confMat(con_mat, PREFIX)\n",
    "# _ = plot_f1score(f1, PREFIX, tn)\n",
    "# _, _ = show_confMat(con_mat_zero, PREFIX+'_zero')\n",
    "# _ = plot_f1score(f1_zero, PREFIX+'_zero', tn_zero)\n"
   ]
  },
  {
   "cell_type": "code",
   "execution_count": 8,
   "metadata": {},
   "outputs": [
    {
     "name": "stdout",
     "output_type": "stream",
     "text": [
      "\n",
      ">> Macro F1 score \n",
      "------------------------\n",
      "paper     : 0.8782\n",
      "paperpack : 0.4444\n",
      "can       : 1.0000\n",
      "glass     : 1.0000\n",
      "pet       : 1.0000\n",
      "plastic   : 0.8783\n",
      "vinyl     : 0.7083\n",
      "------------------------\n",
      "TOTAL     : 0.8442\n",
      "\n",
      ">> Macro F1 score - include zero\n",
      "------------------------\n",
      "paper     : 0.8452\n",
      "paperpack : 0.4048\n",
      "can       : 1.0000\n",
      "glass     : 1.0000\n",
      "pet       : 0.9706\n",
      "plastic   : 0.8400\n",
      "vinyl     : 0.6900\n",
      "------------------------\n",
      "TOTAL     : 0.8215\n"
     ]
    }
   ],
   "source": [
    "PREFIX = 's-last_30'\n",
    "\n",
    "# DIR_PATH = '/ssd_2/RecycleTrash/yolo/images/test_2020AGC_452'\n",
    "DIR_PATH = '/ssd_2/RecycleTrash/yolo/images/test_2021AGC_30'\n",
    "# DIR_PATH = '/ssd_2/RecycleTrash/yolo/images/test_211026_405'\n",
    "# DIR_PATH = '/ssd_2/RecycleTrash/yolo/images/test_211103_400'\n",
    "\n",
    "true_dict = get_true_annotation('../seareale/config/config.yaml', one_path=DIR_PATH)\n",
    "pred_dict = get_pred_annotation(f'../seareale/archive/answersheet_4_03_seareale_{PREFIX}.json')\n",
    "\n",
    "_, f1, con_mat, tn = AGC2021_f1score(true_dict, pred_dict)\n",
    "_, f1_zero, con_mat_zero, tn_zero  = AGC2021_f1score(true_dict, pred_dict, include_zero=True)\n",
    "\n",
    "# _, _ = show_confMat(con_mat, PREFIX)\n",
    "# _ = plot_f1score(f1, PREFIX, tn)\n",
    "# _, _ = show_confMat(con_mat_zero, PREFIX+'_zero')\n",
    "# _ = plot_f1score(f1_zero, PREFIX+'_zero', tn_zero)\n"
   ]
  },
  {
   "cell_type": "code",
   "execution_count": null,
   "metadata": {},
   "outputs": [],
   "source": []
  }
 ],
 "metadata": {
  "interpreter": {
   "hash": "6f81b7c444f640bcd28e7b46d1066f4663d856bc8436cdde2a500bc0abc8ca73"
  },
  "kernelspec": {
   "display_name": "Python 3.8.8 64-bit ('recycle': conda)",
   "name": "python3"
  },
  "language_info": {
   "codemirror_mode": {
    "name": "ipython",
    "version": 3
   },
   "file_extension": ".py",
   "mimetype": "text/x-python",
   "name": "python",
   "nbconvert_exporter": "python",
   "pygments_lexer": "ipython3",
   "version": "3.8.8"
  },
  "orig_nbformat": 4
 },
 "nbformat": 4,
 "nbformat_minor": 2
}

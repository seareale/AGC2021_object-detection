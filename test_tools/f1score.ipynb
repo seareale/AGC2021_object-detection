{
 "cells": [
  {
   "cell_type": "code",
   "execution_count": 1,
   "metadata": {},
   "outputs": [],
   "source": [
    "from f1score import *"
   ]
  },
  {
   "cell_type": "code",
   "execution_count": 2,
   "metadata": {},
   "outputs": [
    {
     "name": "stdout",
     "output_type": "stream",
     "text": [
      "\n",
      ">> Macro F1 score \n",
      "------------------------\n",
      "paper     : 0.7031\n",
      "paperpack : 0.5511\n",
      "can       : 0.8279\n",
      "glass     : 1.0000\n",
      "pet       : 0.9692\n",
      "plastic   : 0.7090\n",
      "vinyl     : 0.8605\n",
      "------------------------\n",
      "TOTAL     : 0.8030\n",
      "\n",
      ">> Macro F1 score - include zero\n",
      "------------------------\n",
      "paper     : 0.6709\n",
      "paperpack : 0.5303\n",
      "can       : 0.7645\n",
      "glass     : 0.9636\n",
      "pet       : 0.7545\n",
      "plastic   : 0.5199\n",
      "vinyl     : 0.8189\n",
      "------------------------\n",
      "TOTAL     : 0.7175\n"
     ]
    }
   ],
   "source": [
    "PREFIX = 's-last_405'\n",
    "\n",
    "true_dict = get_true_annotation('../seareale/config.yaml')\n",
    "pred_dict = get_pred_annotation(f'../seareale/answersheet_4_03_seareale_{PREFIX}.json')\n",
    "\n",
    "_, f1, con_mat, tn = AGC2021_f1score(true_dict, pred_dict)\n",
    "_, f1_zero, con_mat_zero, tn_zero  = AGC2021_f1score(true_dict, pred_dict, include_zero=True)\n",
    "\n",
    "_, _ = show_confMat(con_mat, PREFIX)\n",
    "_ = plot_f1score(f1, PREFIX, tn)\n",
    "_, _ = show_confMat(con_mat_zero, PREFIX+'_zero')\n",
    "_ = plot_f1score(f1_zero, PREFIX+'_zero', tn_zero)\n"
   ]
  },
  {
   "cell_type": "code",
   "execution_count": null,
   "metadata": {},
   "outputs": [],
   "source": []
  }
 ],
 "metadata": {
  "interpreter": {
   "hash": "6f81b7c444f640bcd28e7b46d1066f4663d856bc8436cdde2a500bc0abc8ca73"
  },
  "kernelspec": {
   "display_name": "Python 3.8.8 64-bit ('recycle': conda)",
   "name": "python3"
  },
  "language_info": {
   "codemirror_mode": {
    "name": "ipython",
    "version": 3
   },
   "file_extension": ".py",
   "mimetype": "text/x-python",
   "name": "python",
   "nbconvert_exporter": "python",
   "pygments_lexer": "ipython3",
   "version": "3.8.8"
  },
  "orig_nbformat": 4
 },
 "nbformat": 4,
 "nbformat_minor": 2
}

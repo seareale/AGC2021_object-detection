{
 "cells": [
  {
   "cell_type": "code",
   "execution_count": 1,
   "metadata": {},
   "outputs": [],
   "source": [
    "from f1score import *"
   ]
  },
  {
   "cell_type": "code",
   "execution_count": 5,
   "metadata": {},
   "outputs": [
    {
     "name": "stdout",
     "output_type": "stream",
     "text": [
      "\n",
      ">> Macro F1 score \n",
      "------------------------\n",
      "paper     : 0.6766\n",
      "paperpack : 0.9554\n",
      "can       : 1.0000\n",
      "glass     : 1.0000\n",
      "pet       : 1.0000\n",
      "plastic   : 0.8020\n",
      "vinyl     : 0.9209\n",
      "------------------------\n",
      "TOTAL     : 0.9079\n",
      "\n",
      ">> Macro F1 score - include zero\n",
      "------------------------\n",
      "paper     : 0.6746\n",
      "paperpack : 0.9515\n",
      "can       : 0.9994\n",
      "glass     : 0.9960\n",
      "pet       : 0.9394\n",
      "plastic   : 0.7643\n",
      "vinyl     : 0.9096\n",
      "------------------------\n",
      "TOTAL     : 0.8907\n"
     ]
    }
   ],
   "source": [
    "# DIR_PATH = '/ssd_2/RecycleTrash/yolo/images/test_2020AGC_452'\n",
    "# DIR_PATH = '/ssd_2/RecycleTrash/yolo/images/test_2021AGC_30'\n",
    "# DIR_PATH = '/ssd_2/RecycleTrash/yolo/images/test_211026_405'\n",
    "# DIR_PATH = '/ssd_2/RecycleTrash/yolo/images/test_211103_400'\n",
    "DIR_PATH = '/home/agc2021/dataset/'\n",
    "\n",
    "true_dict = get_true_annotation('../seareale/config/config.yaml', one_path=DIR_PATH)\n",
    "pred_dict = get_pred_annotation(f'../seareale/answersheet_4_03_seareale.json')\n",
    "\n",
    "_, f1, con_mat, tn = AGC2021_f1score(true_dict, pred_dict)\n",
    "_, f1_zero, con_mat_zero, tn_zero  = AGC2021_f1score(true_dict, pred_dict, include_zero=True)\n",
    "\n",
    "PREFIX = 'x6_test_800_s-1'\n",
    "_, _ = show_confMat(con_mat, PREFIX)\n",
    "_ = plot_f1score(f1, PREFIX, tn)\n",
    "_, _ = show_confMat(con_mat_zero, PREFIX+'_zero')\n",
    "_ = plot_f1score(f1_zero, PREFIX+'_zero', tn_zero)"
   ]
  },
  {
   "cell_type": "markdown",
   "metadata": {},
   "source": []
  },
  {
   "cell_type": "code",
   "execution_count": 4,
   "metadata": {},
   "outputs": [],
   "source": [
    "# s6, base\n",
    "# last : 0.8202 0.7960\n",
    "\n",
    "# s6, scale(1)\n",
    "# last : 0.8225 0.8000\n",
    "\n",
    "# s6, aug(0,1), scale(1)\n",
    "# last : 0.8285 0.8056\n",
    "\n",
    "# s6, aug(0,1), scale(1,1.3,1.5)\n",
    "# best : 0.7748 0.7490\n",
    "# last : 0.7814 0.7584\n",
    "\n",
    "\n",
    "\n",
    "# m6, base\n",
    "#  e15 : 0.7963 0.7736\n",
    "\n",
    "# m6, scale(1)\n",
    "#  e15 : 0.8243 0.8039\n",
    "\n",
    "# m6, aug(0,1), scale(1)\n",
    "#  e15 : 0.8182 0.7956\n",
    "\n",
    "# m6, aug(0,1), scale(1,1.3,1.5)\n",
    "#  e15 : 0.8182 0.7956\n",
    "\n",
    "\n",
    "# m6, base\n",
    "#  e24 : 0.8632 0.8466\n",
    "\n",
    "\n",
    "# 예상\n",
    "# m6 : 0.85\n",
    "# l6 : 0.87\n",
    "\n",
    "\n",
    "# x6, base544444\n",
    "# last : 0.9090 0.8915\n",
    "\n",
    "# x6, scale(1)\n",
    "# best : 0.9079 0.8901\n",
    "# last : 0.9079 0.8901\n",
    "\n",
    "# x6, scale(1, 1.5)\n",
    "# last : 0.9037 0.8871\n",
    "\n",
    "# x6, aug(0,1), scale(1)\n",
    "# last : 0.9113 0.8946\n",
    "\n",
    "# x6, aug(2,3), scale(1)\n",
    "# last : 0.8696 0.8521"
   ]
  },
  {
   "cell_type": "code",
   "execution_count": null,
   "metadata": {},
   "outputs": [],
   "source": []
  }
 ],
 "metadata": {
  "interpreter": {
   "hash": "6f81b7c444f640bcd28e7b46d1066f4663d856bc8436cdde2a500bc0abc8ca73"
  },
  "kernelspec": {
   "display_name": "Python 3.8.8 64-bit ('recycle': conda)",
   "name": "python3"
  },
  "language_info": {
   "codemirror_mode": {
    "name": "ipython",
    "version": 3
   },
   "file_extension": ".py",
   "mimetype": "text/x-python",
   "name": "python",
   "nbconvert_exporter": "python",
   "pygments_lexer": "ipython3",
   "version": "3.8.8"
  },
  "orig_nbformat": 4
 },
 "nbformat": 4,
 "nbformat_minor": 2
}

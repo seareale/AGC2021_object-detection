{
 "cells": [
  {
   "cell_type": "code",
   "execution_count": 14,
   "metadata": {},
   "outputs": [],
   "source": [
    "from f1score import *"
   ]
  },
  {
   "cell_type": "code",
   "execution_count": 21,
   "metadata": {},
   "outputs": [
    {
     "name": "stdout",
     "output_type": "stream",
     "text": [
      "\n",
      ">> Macro F1 score \n",
      "------------------------\n",
      "paper     : 0.6965\n",
      "paperpack : 0.4910\n",
      "can       : 0.8233\n",
      "glass     : 0.5000\n",
      "pet       : 0.9836\n",
      "plastic   : 0.8260\n",
      "vinyl     : 0.4920\n",
      "------------------------\n",
      "TOTAL     : 0.6875\n",
      "\n",
      ">> Macro F1 score - include zero\n",
      "------------------------\n",
      "paper     : 0.5959\n",
      "paperpack : 0.4483\n",
      "can       : 0.7446\n",
      "glass     : 0.4760\n",
      "pet       : 0.7595\n",
      "plastic   : 0.5300\n",
      "vinyl     : 0.4260\n",
      "------------------------\n",
      "TOTAL     : 0.5686\n"
     ]
    }
   ],
   "source": [
    "true_dict = get_true_annotation('../seareale/config.yaml')\n",
    "pred_dict = get_pred_annotation('../seareale/answersheet_4_03_seareale.json')\n",
    "\n",
    "_, f1, con_mat = AGC2021_f1score(true_dict, pred_dict)\n",
    "_, f1_zero, con_mat_zero  = AGC2021_f1score(true_dict, pred_dict, include_zero=True)\n",
    "\n",
    "PREFIX = 'sample'\n",
    "# _, _ = show_confMat(con_mat, PREFIX)\n",
    "# _ = plot_f1score(f1, PREFIX)\n",
    "# _, _ = show_confMat(con_mat_zero, PREFIX)\n",
    "# _ = plot_f1score(f1_zero, PREFIX)x\n"
   ]
  },
  {
   "cell_type": "code",
   "execution_count": null,
   "metadata": {},
   "outputs": [],
   "source": []
  }
 ],
 "metadata": {
  "interpreter": {
   "hash": "6f81b7c444f640bcd28e7b46d1066f4663d856bc8436cdde2a500bc0abc8ca73"
  },
  "kernelspec": {
   "display_name": "Python 3.8.8 64-bit ('recycle': conda)",
   "name": "python3"
  },
  "language_info": {
   "codemirror_mode": {
    "name": "ipython",
    "version": 3
   },
   "file_extension": ".py",
   "mimetype": "text/x-python",
   "name": "python",
   "nbconvert_exporter": "python",
   "pygments_lexer": "ipython3",
   "version": "3.8.8"
  },
  "orig_nbformat": 4
 },
 "nbformat": 4,
 "nbformat_minor": 2
}

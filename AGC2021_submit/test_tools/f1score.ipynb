{
 "cells": [
  {
   "cell_type": "code",
   "execution_count": null,
   "metadata": {},
   "outputs": [],
   "source": [
    "from f1score import *"
   ]
  },
  {
   "cell_type": "code",
   "execution_count": null,
   "metadata": {},
   "outputs": [],
   "source": [
    "# DIR_PATH = '/ssd_2/RecycleTrash/yolo/images/test_2020AGC_452'\n",
    "# DIR_PATH = '/ssd_2/RecycleTrash/yolo/images/test_2021AGC_30'\n",
    "# DIR_PATH = '/ssd_2/RecycleTrash/yolo/images/test_211026_405'\n",
    "# DIR_PATH = '/ssd_2/RecycleTrash/yolo/images/test_211103_400'\n",
    "DIR_PATH = '/home/agc2021/dataset/'\n",
    "\n",
    "true_dict = get_true_annotation('../seareale/config/config.yaml', one_path=DIR_PATH)\n",
    "pred_dict = get_pred_annotation(f'../seareale/answersheet_4_03_seareale.json')\n",
    "\n",
    "_, f1, con_mat, tn = AGC2021_f1score(true_dict, pred_dict)\n",
    "_, f1_zero, con_mat_zero, tn_zero  = AGC2021_f1score(true_dict, pred_dict, include_zero=True)\n",
    "\n",
    "# PREFIX = 'x6_test_800_s-1'\n",
    "# _, _ = show_confMat(con_mat, PREFIX)\n",
    "# _ = plot_f1score(f1, PREFIX, tn)\n",
    "# _, _ = show_confMat(con_mat_zero, PREFIX+'_zero')\n",
    "# _ = plot_f1score(f1_zero, PREFIX+'_zero', tn_zero)"
   ]
  },
  {
   "cell_type": "code",
   "execution_count": null,
   "metadata": {},
   "outputs": [],
   "source": [
    "# 3 ensemble(2l, 1x(neck-det))\n",
    "0.9257 0.9125 # None\n",
    "\n",
    "# 4 ensemble(2l, 2x)\n",
    "0.9317 0.9188 # None\n",
    "\n",
    "0.9207 0.9079 # 0\n",
    "\n",
    "# 6 ensemble(s, m, 2l, 2x)\n",
    "0.9109 0.8975 # None\n",
    "\n",
    "\n",
    "\n",
    "# neck-det ensemble\n",
    "0.9205 0.9054 # None\n",
    "0.9177 0.9028 # 0\n",
    "# 1\n",
    "0.9102 0.8951 # sat\n",
    "0.9115 0.8966 # 0,1\n",
    "0.9177 0.9028 # 0,sat\n",
    "0.9142 0.8990 # 2,sat\n",
    "0.9121 0.8974 # 0,2,sat\n",
    "\n",
    "# l6_neck-det\n",
    "# 0,1\n",
    "# sat\n",
    "# 0,sat\n",
    "# 2,sat\n",
    "# 0,2,sat\n",
    "\n",
    "# x6_neck-det\n",
    "# 0,1\n",
    "# sat\n",
    "# 0,sat\n",
    "# 2,sat\n",
    "# 0,2,sat\n",
    "\n",
    "# x6_all\n",
    "# 0,1\n",
    "# sat\n",
    "# 0,sat\n",
    "# 2,sat\n",
    "# 0,2,sat\n",
    "\n",
    "# l6_all\n",
    "# 0,1\n",
    "# sat\n",
    "# 0,sat\n",
    "# 2,sat\n",
    "# 0,2,sat\n"
   ]
  },
  {
   "cell_type": "code",
   "execution_count": null,
   "metadata": {},
   "outputs": [],
   "source": [
    "0.9101 0.8934 # x6_neck-det_last\n",
    "0.9011 0.8882 # x6_all_e26\n",
    "0.9202 0.9072 # l6_neck-det_last\n",
    "0.8953 0.8827 # l6_all_last"
   ]
  },
  {
   "cell_type": "code",
   "execution_count": null,
   "metadata": {},
   "outputs": [],
   "source": [
    "from f1score import *\n",
    "\n",
    "DIR_PATH = '/ssd_2/RecycleTrash/yolo/images/test_2021AGC_30'\n",
    "true_dict = get_true_annotation('../seareale/config/config.yaml', one_path=DIR_PATH)"
   ]
  },
  {
   "cell_type": "code",
   "execution_count": null,
   "metadata": {},
   "outputs": [],
   "source": [
    "json_list = sorted(list(Path('../seareale/').glob('*.json')))\n",
    "\n",
    "for json_path in json_list:\n",
    "    pred_dict = get_pred_annotation(json_path)\n",
    "    macrof1, _, _, _  = AGC2021_f1score(true_dict, pred_dict, include_zero=True, print_result=False)\n",
    "    \n",
    "    print(f\"{str(json_path).split('/')[-1][:-5]:>30s} : {macrof1}\")"
   ]
  },
  {
   "cell_type": "code",
   "execution_count": null,
   "metadata": {},
   "outputs": [],
   "source": []
  },
  {
   "cell_type": "code",
   "execution_count": null,
   "metadata": {},
   "outputs": [],
   "source": [
    "import os\n",
    "os.environ[\"CUDA_VISIBLE_DEVICES\"]=\"3\"\n",
    "import sys\n",
    "sys.path.append('../seareale')\n",
    "import torch\n",
    "from models.yolo import Model\n",
    "\n",
    "from torchinfo import summary"
   ]
  },
  {
   "cell_type": "code",
   "execution_count": null,
   "metadata": {},
   "outputs": [],
   "source": [
    "train_ckpt = torch.load('../seareale/weights/x6_neck-det_last.pt')\n",
    "train_ckpt_model = train_ckpt['model']"
   ]
  },
  {
   "cell_type": "code",
   "execution_count": null,
   "metadata": {},
   "outputs": [],
   "source": [
    "nc = 7\n",
    "model = Model(train_ckpt_model.yaml, ch=3, nc=nc)"
   ]
  },
  {
   "cell_type": "code",
   "execution_count": null,
   "metadata": {},
   "outputs": [],
   "source": [
    "summary(model, input_size=(4, 3, 1280, 1280))"
   ]
  }
 ],
 "metadata": {
  "interpreter": {
   "hash": "6f81b7c444f640bcd28e7b46d1066f4663d856bc8436cdde2a500bc0abc8ca73"
  },
  "kernelspec": {
   "display_name": "Python 3.8.8 64-bit ('recycle': conda)",
   "name": "python3"
  },
  "language_info": {
   "codemirror_mode": {
    "name": "ipython",
    "version": 3
   },
   "file_extension": ".py",
   "mimetype": "text/x-python",
   "name": "python",
   "nbconvert_exporter": "python",
   "pygments_lexer": "ipython3",
   "version": "3.8.3"
  },
  "orig_nbformat": 4
 },
 "nbformat": 4,
 "nbformat_minor": 2
}
